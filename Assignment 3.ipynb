{
 "cells": [
  {
   "cell_type": "markdown",
   "id": "93c5bd3f",
   "metadata": {},
   "source": [
    "1. Why are functions advantageous to have in your programs?"
   ]
  },
  {
   "cell_type": "code",
   "execution_count": 4,
   "id": "781af973",
   "metadata": {},
   "outputs": [],
   "source": [
    "#Ans- Function helps to avoide the repetation of the code in a program. with the help of the functions, we don't need to write the logic of the code repetedly.\n"
   ]
  },
  {
   "cell_type": "markdown",
   "id": "228b9a0d",
   "metadata": {},
   "source": [
    "2. When does the code in a function run: when it's specified or when it's called?"
   ]
  },
  {
   "cell_type": "code",
   "execution_count": 5,
   "id": "e9f812c8",
   "metadata": {},
   "outputs": [],
   "source": [
    "#Ans-The code in a funtion run when it's called"
   ]
  },
  {
   "cell_type": "markdown",
   "id": "ac1232db",
   "metadata": {},
   "source": [
    "3.What statement creates a function?"
   ]
  },
  {
   "cell_type": "code",
   "execution_count": 6,
   "id": "e85452b6",
   "metadata": {},
   "outputs": [],
   "source": [
    "#Ans- The keyword \"def\" create a funtion"
   ]
  },
  {
   "cell_type": "markdown",
   "id": "7a1ca320",
   "metadata": {},
   "source": [
    "4. What is the difference between a function and a function call?"
   ]
  },
  {
   "cell_type": "code",
   "execution_count": 7,
   "id": "8110d1c4",
   "metadata": {},
   "outputs": [],
   "source": [
    "#Ans- A function is a piece of code which enhanced the reusabilit of the program. \n",
    "#    function is a procedure to achieve a particular result while function call is using the function to achive a particular task.\n"
   ]
  },
  {
   "cell_type": "markdown",
   "id": "14aa4599",
   "metadata": {},
   "source": [
    "5. How many global scopes are there in a Python program? How many local scopes?"
   ]
  },
  {
   "cell_type": "code",
   "execution_count": 12,
   "id": "dbcfe0f9",
   "metadata": {},
   "outputs": [],
   "source": [
    "#Ans- In a python program only one global scopes and one local scopes is there."
   ]
  },
  {
   "cell_type": "markdown",
   "id": "399a9b26",
   "metadata": {},
   "source": [
    "6. What happens to variables in a local scope when the function call returns?"
   ]
  },
  {
   "cell_type": "code",
   "execution_count": 9,
   "id": "db9080fc",
   "metadata": {},
   "outputs": [],
   "source": [
    "#Ans- When the function call returns it will give results in \"int\", where as in print statement, it will return in \"Nontype\""
   ]
  },
  {
   "cell_type": "markdown",
   "id": "f50f501e",
   "metadata": {},
   "source": [
    "7. What is the concept of a return value? Is it possible to have a return value in an expression?"
   ]
  },
  {
   "cell_type": "code",
   "execution_count": 10,
   "id": "a3aa0b2c",
   "metadata": {},
   "outputs": [],
   "source": [
    "#Ans- The return value is usually the result of the calculation that takes place within the function.\n",
    "#     Yes, it is possible to have a return value in an expression. An expression is a piece of code that returns a value."
   ]
  },
  {
   "cell_type": "markdown",
   "id": "c268052c",
   "metadata": {},
   "source": [
    "8. If a function does not have a return statement, what is the return value of a call to that function?"
   ]
  },
  {
   "cell_type": "code",
   "execution_count": 11,
   "id": "0a21b3a3",
   "metadata": {},
   "outputs": [],
   "source": [
    "#Ans-  If a function does not have a return statement, it returns None in Python"
   ]
  },
  {
   "cell_type": "markdown",
   "id": "5aab22d2",
   "metadata": {},
   "source": [
    "9.How do you make a function variable refer to the global variable?"
   ]
  },
  {
   "cell_type": "code",
   "execution_count": 13,
   "id": "12bec141",
   "metadata": {},
   "outputs": [],
   "source": [
    "#Ans- we can use the \"global\" keyword within a function to make the function reference a global variable."
   ]
  },
  {
   "cell_type": "markdown",
   "id": "ac0130cd",
   "metadata": {},
   "source": [
    "10.What is the data type of None?"
   ]
  },
  {
   "cell_type": "code",
   "execution_count": 15,
   "id": "70aca028",
   "metadata": {},
   "outputs": [],
   "source": [
    "#Ans--Non is a data type of the class NoneType object"
   ]
  },
  {
   "cell_type": "markdown",
   "id": "fb2b1fa7",
   "metadata": {},
   "source": [
    "11. What does the sentence import areallyourpetsnamederic do?"
   ]
  },
  {
   "cell_type": "code",
   "execution_count": 16,
   "id": "54386cf9",
   "metadata": {},
   "outputs": [],
   "source": [
    "#Ans- That import statement imports a module named areallyourpetsnamederi"
   ]
  },
  {
   "cell_type": "markdown",
   "id": "028dd78e",
   "metadata": {},
   "source": [
    "12.If you had a bacon() feature in a spam module, what would you call it after importing spam?"
   ]
  },
  {
   "cell_type": "code",
   "execution_count": 17,
   "id": "b895140d",
   "metadata": {},
   "outputs": [],
   "source": [
    "#If a bacon() feature in a spam module,I would call it as spam.bacon() after importing spam."
   ]
  },
  {
   "cell_type": "markdown",
   "id": "55aae32a",
   "metadata": {},
   "source": [
    "13. What can you do to save a programme from crashing if it encounters an error?"
   ]
  },
  {
   "cell_type": "code",
   "execution_count": 18,
   "id": "34293cfb",
   "metadata": {},
   "outputs": [],
   "source": [
    "#Ans- we have to place the line of code that might cause an error in a try clause."
   ]
  },
  {
   "cell_type": "markdown",
   "id": "34b3c4a6",
   "metadata": {},
   "source": [
    "14. What is the purpose of the try clause? What is the purpose of the except clause?"
   ]
  },
  {
   "cell_type": "code",
   "execution_count": 19,
   "id": "62f14cf2",
   "metadata": {},
   "outputs": [],
   "source": [
    "#Ans -The code that could potentially cause an error goes in the try clause.\n",
    "#The code that executes if an error happens goes in the except clause."
   ]
  },
  {
   "cell_type": "code",
   "execution_count": null,
   "id": "7e6336df",
   "metadata": {},
   "outputs": [],
   "source": []
  }
 ],
 "metadata": {
  "kernelspec": {
   "display_name": "Python 3 (ipykernel)",
   "language": "python",
   "name": "python3"
  },
  "language_info": {
   "codemirror_mode": {
    "name": "ipython",
    "version": 3
   },
   "file_extension": ".py",
   "mimetype": "text/x-python",
   "name": "python",
   "nbconvert_exporter": "python",
   "pygments_lexer": "ipython3",
   "version": "3.9.12"
  }
 },
 "nbformat": 4,
 "nbformat_minor": 5
}
